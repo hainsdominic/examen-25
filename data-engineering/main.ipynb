{
 "cells": [
  {
   "cell_type": "code",
   "execution_count": 1,
   "metadata": {},
   "outputs": [],
   "source": [
    "import pandas as pd\n",
    "import numpy as np"
   ]
  },
  {
   "cell_type": "code",
   "execution_count": 2,
   "metadata": {},
   "outputs": [
    {
     "data": {
      "text/html": [
       "<div>\n",
       "<style scoped>\n",
       "    .dataframe tbody tr th:only-of-type {\n",
       "        vertical-align: middle;\n",
       "    }\n",
       "\n",
       "    .dataframe tbody tr th {\n",
       "        vertical-align: top;\n",
       "    }\n",
       "\n",
       "    .dataframe thead th {\n",
       "        text-align: right;\n",
       "    }\n",
       "</style>\n",
       "<table border=\"1\" class=\"dataframe\">\n",
       "  <thead>\n",
       "    <tr style=\"text-align: right;\">\n",
       "      <th></th>\n",
       "      <th>OrderID</th>\n",
       "      <th>CustomerID</th>\n",
       "      <th>ProductID</th>\n",
       "      <th>OrderDate</th>\n",
       "      <th>Quantity</th>\n",
       "      <th>TotalAmount</th>\n",
       "      <th>OrderStatus</th>\n",
       "      <th>Company</th>\n",
       "    </tr>\n",
       "  </thead>\n",
       "  <tbody>\n",
       "    <tr>\n",
       "      <th>0</th>\n",
       "      <td>O000</td>\n",
       "      <td>C047</td>\n",
       "      <td>P038</td>\n",
       "      <td>2025-01-10 06:32:44</td>\n",
       "      <td>6</td>\n",
       "      <td>2669.40</td>\n",
       "      <td>Completed</td>\n",
       "      <td>Bright Ltd</td>\n",
       "    </tr>\n",
       "    <tr>\n",
       "      <th>1</th>\n",
       "      <td>O001</td>\n",
       "      <td>C113</td>\n",
       "      <td>P079</td>\n",
       "      <td>2025-01-01 02:58:50</td>\n",
       "      <td>3</td>\n",
       "      <td>1366.47</td>\n",
       "      <td>Completed</td>\n",
       "      <td>Jordan-Little</td>\n",
       "    </tr>\n",
       "    <tr>\n",
       "      <th>2</th>\n",
       "      <td>O002</td>\n",
       "      <td>C106</td>\n",
       "      <td>P018</td>\n",
       "      <td>2025-01-13 06:09:18</td>\n",
       "      <td>8</td>\n",
       "      <td>2509.52</td>\n",
       "      <td>Completed</td>\n",
       "      <td>Kaiser, Vargas and Smith</td>\n",
       "    </tr>\n",
       "    <tr>\n",
       "      <th>3</th>\n",
       "      <td>O002</td>\n",
       "      <td>C187</td>\n",
       "      <td>P083</td>\n",
       "      <td>2025-01-13 06:09:18</td>\n",
       "      <td>10</td>\n",
       "      <td>2934.70</td>\n",
       "      <td>Completed</td>\n",
       "      <td>Kaiser, Vargas and Smith</td>\n",
       "    </tr>\n",
       "    <tr>\n",
       "      <th>4</th>\n",
       "      <td>O002</td>\n",
       "      <td>C144</td>\n",
       "      <td>P074</td>\n",
       "      <td>2025-01-13 06:09:18</td>\n",
       "      <td>2</td>\n",
       "      <td>443.58</td>\n",
       "      <td>Completed</td>\n",
       "      <td>Kaiser, Vargas and Smith</td>\n",
       "    </tr>\n",
       "  </tbody>\n",
       "</table>\n",
       "</div>"
      ],
      "text/plain": [
       "  OrderID CustomerID ProductID            OrderDate  Quantity  TotalAmount  \\\n",
       "0    O000       C047      P038  2025-01-10 06:32:44         6      2669.40   \n",
       "1    O001       C113      P079  2025-01-01 02:58:50         3      1366.47   \n",
       "2    O002       C106      P018  2025-01-13 06:09:18         8      2509.52   \n",
       "3    O002       C187      P083  2025-01-13 06:09:18        10      2934.70   \n",
       "4    O002       C144      P074  2025-01-13 06:09:18         2       443.58   \n",
       "\n",
       "  OrderStatus                   Company  \n",
       "0   Completed                Bright Ltd  \n",
       "1   Completed             Jordan-Little  \n",
       "2   Completed  Kaiser, Vargas and Smith  \n",
       "3   Completed  Kaiser, Vargas and Smith  \n",
       "4   Completed  Kaiser, Vargas and Smith  "
      ]
     },
     "execution_count": 3,
     "metadata": {},
     "output_type": "execute_result"
    }
   ],
   "source": [
    "# place customers.csv, orders.csv, and products.csv in dataframes\n",
    "\n",
    "customers = pd.read_csv('customers.csv')\n",
    "orders = pd.read_csv('orders.csv')\n",
    "products = pd.read_csv('products.csv')\n",
    "\n",
    "orders.head()"
   ]
  },
  {
   "cell_type": "code",
   "execution_count": null,
   "metadata": {},
   "outputs": [],
   "source": []
  }
 ],
 "metadata": {
  "kernelspec": {
   "display_name": "venv",
   "language": "python",
   "name": "python3"
  },
  "language_info": {
   "codemirror_mode": {
    "name": "ipython",
    "version": 3
   },
   "file_extension": ".py",
   "mimetype": "text/x-python",
   "name": "python",
   "nbconvert_exporter": "python",
   "pygments_lexer": "ipython3",
   "version": "3.13.1"
  }
 },
 "nbformat": 4,
 "nbformat_minor": 2
}
